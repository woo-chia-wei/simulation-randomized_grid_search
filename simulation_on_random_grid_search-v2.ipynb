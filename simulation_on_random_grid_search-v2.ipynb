{
 "cells": [
  {
   "cell_type": "markdown",
   "metadata": {},
   "source": [
    "# Monte Carlo Simulation on Randomized Grid Search\n",
    "To verify rule of thumbs from https://towardsdatascience.com/hyper-parameter-tuning-with-randomised-grid-search-54f865d27926  \n",
    "\n",
    "<i>With 60 iterations, 95% of the time, best 5% sets of parameters can be found, regardless of grid size.</i>\n",
    "\n",
    " "
   ]
  },
  {
   "cell_type": "code",
   "execution_count": 3,
   "metadata": {},
   "outputs": [],
   "source": [
    "import pandas as pd\n",
    "import numpy as np\n",
    "import matplotlib.pyplot as plt\n",
    "\n",
    "from tqdm import tqdm_notebook as tqdm \n",
    "\n",
    "plt.style.use('ggplot')"
   ]
  },
  {
   "cell_type": "code",
   "execution_count": 71,
   "metadata": {},
   "outputs": [],
   "source": [
    "def search_top5_parameters(params_size):\n",
    "    ###############################################################\n",
    "    # Create a dataframe with two columns\n",
    "    # data: int sequence from 0 to n-1 \n",
    "    # top5_pct: bool sequence with length, only 5% of them is True\n",
    "    #           True indicates top 5 percent data\n",
    "    # tried: bool sequence with length n\n",
    "    #        True indicates the data was tried in early iteration\n",
    "    ##############################################################\n",
    "    top_5 = np.random.choice(range(params_size), 5, False)\n",
    "    df = pd.DataFrame({\n",
    "                        'params_index': list(range(params_size)), \n",
    "                        'top5_pct': [False]*params_size\n",
    "                       })\n",
    "    df.loc[top_5, 'top5_pct']=True\n",
    "    \n",
    "    ###############################\n",
    "    # Search for top 5 parameters\n",
    "    # Return number of trials\n",
    "    ###############################\n",
    "    search_space = range(params_size)\n",
    "    for i in range(60):\n",
    "        picked_number = np.random.choice(search_space, 1)\n",
    "        df.loc[picked_number, 'tried'] = True\n",
    "        \n",
    "        if picked_number in top_5:\n",
    "            return True\n",
    "        \n",
    "    return False\n",
    "\n",
    "def simulation(num_trials, params_size):\n",
    "    result = [search_top5_parameters(100) for i in tqdm(range(num_trials))]\n",
    "    s = pd.Series(result).value_counts()\n",
    "    s = s / s.sum()\n",
    "\n",
    "    # Plot\n",
    "    fig, ax = plt.subplots(figsize=(15, 6))\n",
    "    ax.pie(s,labels=[\"Yes\", \"No\"], colors=[\"lightgreen\", \"lightcoral\"], shadow=True, autopct='%0.2f%%')\n",
    "    ax.set_aspect('equal')\n",
    "    ax.set_title('Found top 5% hyperparameters within 60 iterations\\n# Trials = {}, # Parameter Sets = {}'.format(num_trials, params_size))\n",
    "    plt.show()"
   ]
  },
  {
   "cell_type": "code",
   "execution_count": 72,
   "metadata": {
    "scrolled": false
   },
   "outputs": [
    {
     "data": {
      "application/vnd.jupyter.widget-view+json": {
       "model_id": "07825214f8894dbaa96a0b20826162d9",
       "version_major": 2,
       "version_minor": 0
      },
      "text/plain": [
       "HBox(children=(IntProgress(value=0, max=10000), HTML(value='')))"
      ]
     },
     "metadata": {},
     "output_type": "display_data"
    },
    {
     "data": {
      "image/png": "[encoded data removed]",
      "text/plain": [
       "<Figure size 1080x432 with 1 Axes>"
      ]
     },
     "metadata": {},
     "output_type": "display_data"
    }
   ],
   "source": [
    "simulation(10000, 5000)"
   ]
  },
  {
   "cell_type": "code",
   "execution_count": null,
   "metadata": {},
   "outputs": [],
   "source": []
  },
  {
   "cell_type": "code",
   "execution_count": null,
   "metadata": {},
   "outputs": [],
   "source": []
  },
  {
   "cell_type": "code",
   "execution_count": null,
   "metadata": {},
   "outputs": [],
   "source": []
  },
  {
   "cell_type": "code",
   "execution_count": null,
   "metadata": {},
   "outputs": [],
   "source": []
  },
  {
   "cell_type": "code",
   "execution_count": null,
   "metadata": {},
   "outputs": [],
   "source": []
  },
  {
   "cell_type": "code",
   "execution_count": null,
   "metadata": {},
   "outputs": [],
   "source": []
  }
 ],
 "metadata": {
  "kernelspec": {
   "display_name": "Python 3",
   "language": "python",
   "name": "python3"
  },
  "language_info": {
   "codemirror_mode": {
    "name": "ipython",
    "version": 3
   },
   "file_extension": ".py",
   "mimetype": "text/x-python",
   "name": "python",
   "nbconvert_exporter": "python",
   "pygments_lexer": "ipython3",
   "version": "3.7.3"
  }
 },
 "nbformat": 4,
 "nbformat_minor": 2
}
